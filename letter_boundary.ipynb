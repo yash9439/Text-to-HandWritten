{
 "cells": [
  {
   "cell_type": "code",
   "execution_count": 7,
   "metadata": {},
   "outputs": [],
   "source": [
    "import cv2\n",
    "import os"
   ]
  },
  {
   "cell_type": "code",
   "execution_count": 3,
   "metadata": {},
   "outputs": [
    {
     "name": "stdout",
     "output_type": "stream",
     "text": [
      "Letters separated and saved in letters_white_seperated\n"
     ]
    }
   ],
   "source": [
    "import cv2\n",
    "import os\n",
    "\n",
    "def separate_letters(image_path, output_dir, padding=2):\n",
    "    \"\"\"\n",
    "    Separates letters in a PNG image, adds padding, and saves them to separate files.\n",
    "\n",
    "    Args:\n",
    "        image_path: Path to the PNG image file.\n",
    "        output_dir: Directory to save the separated letter images.\n",
    "        padding: Amount of padding to add around each letter (default: 10 pixels).\n",
    "    \"\"\"\n",
    "    # Read the image in grayscale\n",
    "    img = cv2.imread(image_path, cv2.IMREAD_GRAYSCALE)\n",
    "\n",
    "    # Apply thresholding to convert to binary image\n",
    "    ret, thresh = cv2.threshold(img, 127, 255, cv2.THRESH_BINARY_INV)\n",
    "\n",
    "    # Find contours (connected components)\n",
    "    contours, _ = cv2.findContours(thresh, cv2.RETR_EXTERNAL, cv2.CHAIN_APPROX_SIMPLE)\n",
    "\n",
    "    # Loop through contours and separate potential letters\n",
    "    for i, cnt in enumerate(contours):\n",
    "        x, y, w, h = cv2.boundingRect(cnt)\n",
    "\n",
    "        # Add padding\n",
    "        x = max(0, x - padding)  # Prevent negative coordinates\n",
    "        y = max(0, y - padding)\n",
    "        w += 2 * padding\n",
    "        h += 2 * padding\n",
    "\n",
    "        # Extract padded letter image\n",
    "        padded_letter_img = thresh[y:y+h, x:x+w]\n",
    "\n",
    "        # Convert background to white and foreground to black\n",
    "        letter_img = cv2.bitwise_not(padded_letter_img)\n",
    "\n",
    "        # Filter small components (likely noise)\n",
    "        if cv2.contourArea(cnt) > 100:\n",
    "            cv2.imwrite(os.path.join(output_dir, f\"letter_{i}.png\"), letter_img)\n",
    "\n",
    "# Example usage\n",
    "image_path = \"suyash_abcdABCD.png\"\n",
    "output_dir = \"letters_white_seperated\"\n",
    "\n",
    "os.makedirs(output_dir, exist_ok=True)  # Create output directory if it doesn't exist\n",
    "separate_letters(image_path, output_dir, padding=2)  # Adjust padding as needed\n",
    "\n",
    "print(\"Letters separated and saved in\", output_dir)\n"
   ]
  },
  {
   "cell_type": "code",
   "execution_count": 19,
   "metadata": {},
   "outputs": [],
   "source": [
    "from PIL import Image\n",
    "\n",
    "def resize_image(image_path1, image_path2, output_path):\n",
    "  \"\"\"\n",
    "  Resizes the image at path2 to match the dimensions of the image at path1\n",
    "  and preserves a similar white space area above the letter.\n",
    "\n",
    "  Args:\n",
    "      image_path1: Path to the first PNG image (reference for dimensions).\n",
    "      image_path2: Path to the second PNG image to be resized.\n",
    "      output_path: Path to save the resized image.\n",
    "  \"\"\"\n",
    "\n",
    "  # Open the first image\n",
    "  img1 = Image.open(image_path1)\n",
    "\n",
    "  # Get the dimensions of the first image\n",
    "  width1, height1 = img1.size\n",
    "\n",
    "  # Open the second image\n",
    "  img2 = Image.open(image_path2)\n",
    "\n",
    "  # ---------- White space detection ----------\n",
    "  # Convert to grayscale\n",
    "  gray_img1 = img1.convert('L')\n",
    "\n",
    "  # Define threshold for white space (experiment with different values)\n",
    "  threshold = 220  # Adjust this value based on your image\n",
    "\n",
    "  # Find top-most non-white pixel\n",
    "  top_y = None\n",
    "  for y in range(height1):\n",
    "    for x in range(width1):\n",
    "      if gray_img1.getpixel((x, y)) < threshold:\n",
    "        top_y = y\n",
    "        break\n",
    "    if top_y is not None:\n",
    "      break\n",
    "\n",
    "  # Calculate white space height in image1\n",
    "  white_space_height1 = top_y\n",
    "\n",
    "  # ---------- Resize with white space adjustment ----------\n",
    "  # Calculate aspect ratio to maintain proportions\n",
    "  aspect_ratio = float(width1) / height1\n",
    "\n",
    "  # New height considering white space\n",
    "  new_height2 = int(height1 - white_space_height1)\n",
    "\n",
    "  # New width based on aspect ratio and new height\n",
    "  new_width2 = int(new_height2 * aspect_ratio)\n",
    "\n",
    "  # Resize the second image\n",
    "  img2_resized = img2.resize((width1, new_height2), Image.ANTIALIAS)\n",
    "\n",
    "  # Create a blank canvas with white background\n",
    "  canvas = Image.new('RGB', (width1, height1), color=(255, 255, 255))\n",
    "\n",
    "  # Paste the resized image with white space padding\n",
    "  canvas.paste(img2_resized, (0, white_space_height1))  # Adjust padding as needed\n",
    "\n",
    "  # Save the resized image\n",
    "  canvas.save(output_path)\n"
   ]
  },
  {
   "cell_type": "code",
   "execution_count": 22,
   "metadata": {},
   "outputs": [],
   "source": [
    "# Example usage\n",
    "image_path1 = \"Dataset_online/b.png\"\n",
    "image_path2 = \"letters_white_seperated (3rd copy)/b.png\"\n",
    "output_path = \"b_resized_image.png\"\n",
    "\n",
    "resize_image(image_path1, image_path2, output_path)"
   ]
  },
  {
   "cell_type": "code",
   "execution_count": 29,
   "metadata": {},
   "outputs": [
    {
     "name": "stdout",
     "output_type": "stream",
     "text": [
      "u.png\n",
      "['Dataset_online/u.png', 'Dataset_online/4.png', 'Dataset_online/t.png', 'Dataset_online/p.png', 'Dataset_online/z.png', 'Dataset_online/V.png', 'Dataset_online/i.png', 'Dataset_online/b.png', 'Dataset_online/T.png', 'Dataset_online/6.png', 'Dataset_online/m.png', 'Dataset_online/Z.png', 'Dataset_online/que_.png', 'Dataset_online/W.png', 'Dataset_online/F.png', 'Dataset_online/E.png', 'Dataset_online/x.png', 'Dataset_online/8.png', 'Dataset_online/zback.png', 'Dataset_online/P.png', 'Dataset_online/5.png', 'Dataset_online/w.png', 'Dataset_online/M.png', 'Dataset_online/e.png', 'Dataset_online/B.png', 'Dataset_online/j.png', 'Dataset_online/a.png', 'Dataset_online/fs_.png', 'Dataset_online/c.png', 'Dataset_online/y.png', 'Dataset_online/h.png', 'Dataset_online/U.png', 'Dataset_online/0.png', 'Dataset_online/d.png', 'Dataset_online/+.png', 'Dataset_online/7.png', 'Dataset_online/I.png', 'Dataset_online/A.png', 'Dataset_online/L.png', 'Dataset_online/G.png', 'Dataset_online/X.png', 'Dataset_online/s.png', 'Dataset_online/1.png', 'Dataset_online/f.png', 'Dataset_online/k.png', 'Dataset_online/C.png', 'Dataset_online/v.png', 'Dataset_online/l.png', 'Dataset_online/b_resized_image.png', 'Dataset_online/2.png', 'Dataset_online/9.png', 'Dataset_online/D.png', 'Dataset_online/a_resized_image.png', 'Dataset_online/H.png', 'Dataset_online/q.png', 'Dataset_online/Q.png', 'Dataset_online/zspace.png', 'Dataset_online/N.png', 'Dataset_online/R.png', 'Dataset_online/r.png', 'Dataset_online/coma_.png', 'Dataset_online/-.png', 'Dataset_online/J.png', 'Dataset_online/K.png', 'Dataset_online/o.png', 'Dataset_online/S.png', 'Dataset_online/Y.png', 'Dataset_online/O.png', 'Dataset_online/g.png', 'Dataset_online/3.png', 'Dataset_online/n.png']\n"
     ]
    }
   ],
   "source": [
    "paths_suyash = []\n",
    "for root, dirs, files in os.walk(\"letters_white_seperated (3rd copy)\"):\n",
    "    for file in files:\n",
    "        if file.endswith(\".png\"):\n",
    "            # Complete the path by joining the root directory and the filename\n",
    "            full_path = os.path.join(root, file)\n",
    "\n",
    "            # Append the full path to the list\n",
    "            paths_suyash.append(full_path)\n",
    "\n",
    "\n",
    "\n",
    "print(paths_suyash[0][-5:])\n",
    "\n",
    "# extract all file paths from Dataset_online\n",
    "paths_online = []\n",
    "for root, dirs, files in os.walk(\"Dataset_online\"):\n",
    "    for file in files:\n",
    "        if file.endswith(\".png\"):\n",
    "            paths_online.append(os.path.join(root, file))\n",
    "\n",
    "print(paths_online)\n",
    "for image_path1 in paths_suyash:\n",
    "    output_path = \"Dataset_online/\" + image_path1[-5:] \n",
    "    resize_image(output_path, image_path1, image_path1)"
   ]
  },
  {
   "cell_type": "code",
   "execution_count": 5,
   "metadata": {},
   "outputs": [
    {
     "data": {
      "text/plain": [
       "'sh'"
      ]
     },
     "execution_count": 5,
     "metadata": {},
     "output_type": "execute_result"
    }
   ],
   "source": [
    "a =\"suyash\"\n",
    "a[-2:]"
   ]
  },
  {
   "cell_type": "code",
   "execution_count": 32,
   "metadata": {},
   "outputs": [],
   "source": [
    "#take input a picture and add padding to it \n",
    "def add_padding(image_path, padding=3):\n",
    "    \"\"\"\n",
    "    Adds padding to a PNG image and saves it to a new file.\n",
    "\n",
    "    Args:\n",
    "        image_path: Path to the PNG image file.\n",
    "        padding: Amount of padding to add around the image (default: 10 pixels).\n",
    "    \"\"\"\n",
    "    # Read the image\n",
    "    img = cv2.imread(image_path)\n",
    "\n",
    "    # Add padding\n",
    "    img_with_padding = cv2.copyMakeBorder(img, padding, padding, padding, padding, cv2.BORDER_CONSTANT, value=(255, 255, 255))\n",
    "\n",
    "    # Save the image with padding\n",
    "    # output_path = image_path[:-4] + \"_padded.png\"\n",
    "    cv2.imwrite(image_path, img_with_padding)\n",
    "    \n",
    "# Example usage\n",
    "image_path = \"Dataset_online/zspace.png\"\n",
    "add_padding(image_path, padding=3)"
   ]
  },
  {
   "cell_type": "code",
   "execution_count": null,
   "metadata": {},
   "outputs": [],
   "source": []
  }
 ],
 "metadata": {
  "kernelspec": {
   "display_name": "Python 3",
   "language": "python",
   "name": "python3"
  },
  "language_info": {
   "codemirror_mode": {
    "name": "ipython",
    "version": 3
   },
   "file_extension": ".py",
   "mimetype": "text/x-python",
   "name": "python",
   "nbconvert_exporter": "python",
   "pygments_lexer": "ipython3",
   "version": "3.10.12"
  }
 },
 "nbformat": 4,
 "nbformat_minor": 2
}
