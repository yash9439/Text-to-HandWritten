{
 "cells": [
  {
   "cell_type": "code",
   "execution_count": 21,
   "metadata": {},
   "outputs": [
    {
     "name": "stdout",
     "output_type": "stream",
     "text": [
      "Letters separated and saved in letters_white_seperated\n"
     ]
    }
   ],
   "source": [
    "import cv2\n",
    "import os\n",
    "\n",
    "def separate_letters(image_path, output_dir, padding=2):\n",
    "    \"\"\"\n",
    "    Separates letters in a PNG image, adds padding, and saves them to separate files.\n",
    "\n",
    "    Args:\n",
    "        image_path: Path to the PNG image file.\n",
    "        output_dir: Directory to save the separated letter images.\n",
    "        padding: Amount of padding to add around each letter (default: 10 pixels).\n",
    "    \"\"\"\n",
    "    # Read the image in grayscale\n",
    "    img = cv2.imread(image_path, cv2.IMREAD_GRAYSCALE)\n",
    "\n",
    "    # Apply thresholding to convert to binary image\n",
    "    ret, thresh = cv2.threshold(img, 127, 255, cv2.THRESH_BINARY_INV)\n",
    "\n",
    "    # Find contours (connected components)\n",
    "    contours, _ = cv2.findContours(thresh, cv2.RETR_EXTERNAL, cv2.CHAIN_APPROX_SIMPLE)\n",
    "\n",
    "    # Loop through contours and separate potential letters\n",
    "    for i, cnt in enumerate(contours):\n",
    "        x, y, w, h = cv2.boundingRect(cnt)\n",
    "\n",
    "        # Add padding\n",
    "        x = max(0, x - padding)  # Prevent negative coordinates\n",
    "        y = max(0, y - padding)\n",
    "        w += 2 * padding\n",
    "        h += 2 * padding\n",
    "\n",
    "        # Extract padded letter image\n",
    "        padded_letter_img = thresh[y:y+h, x:x+w]\n",
    "\n",
    "        # Convert background to white and foreground to black\n",
    "        letter_img = cv2.bitwise_not(padded_letter_img)\n",
    "\n",
    "        # Filter small components (likely noise)\n",
    "        if cv2.contourArea(cnt) > 100:\n",
    "            cv2.imwrite(os.path.join(output_dir, f\"letter_{i}.png\"), letter_img)\n",
    "\n",
    "# Example usage\n",
    "image_path = \"abcd_suyash.png\"\n",
    "output_dir = \"letters_white_seperated\"\n",
    "\n",
    "os.makedirs(output_dir, exist_ok=True)  # Create output directory if it doesn't exist\n",
    "separate_letters(image_path, output_dir, padding=2)  # Adjust padding as needed\n",
    "\n",
    "print(\"Letters separated and saved in\", output_dir)\n"
   ]
  },
  {
   "cell_type": "code",
   "execution_count": null,
   "metadata": {},
   "outputs": [],
   "source": []
  }
 ],
 "metadata": {
  "kernelspec": {
   "display_name": "Python 3",
   "language": "python",
   "name": "python3"
  },
  "language_info": {
   "codemirror_mode": {
    "name": "ipython",
    "version": 3
   },
   "file_extension": ".py",
   "mimetype": "text/x-python",
   "name": "python",
   "nbconvert_exporter": "python",
   "pygments_lexer": "ipython3",
   "version": "3.10.12"
  }
 },
 "nbformat": 4,
 "nbformat_minor": 2
}
